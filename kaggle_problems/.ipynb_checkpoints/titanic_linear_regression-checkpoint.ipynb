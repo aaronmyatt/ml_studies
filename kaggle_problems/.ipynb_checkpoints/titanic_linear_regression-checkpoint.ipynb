{
 "cells": [
  {
   "cell_type": "code",
   "execution_count": 437,
   "metadata": {
    "collapsed": false
   },
   "outputs": [],
   "source": [
    "import pandas as pd\n",
    "import numpy as np\n",
    "from sklearn import linear_model, preprocessing, model_selection"
   ]
  },
  {
   "cell_type": "code",
   "execution_count": 438,
   "metadata": {
    "collapsed": true
   },
   "outputs": [],
   "source": [
    "Model = linear_model.LinearRegression\n",
    "# Model = linear_model.LogisticRegression"
   ]
  },
  {
   "cell_type": "code",
   "execution_count": 439,
   "metadata": {
    "collapsed": false
   },
   "outputs": [
    {
     "data": {
      "text/html": [
       "<div>\n",
       "<style>\n",
       "    .dataframe thead tr:only-child th {\n",
       "        text-align: right;\n",
       "    }\n",
       "\n",
       "    .dataframe thead th {\n",
       "        text-align: left;\n",
       "    }\n",
       "\n",
       "    .dataframe tbody tr th {\n",
       "        vertical-align: top;\n",
       "    }\n",
       "</style>\n",
       "<table border=\"1\" class=\"dataframe\">\n",
       "  <thead>\n",
       "    <tr style=\"text-align: right;\">\n",
       "      <th></th>\n",
       "      <th>PassengerId</th>\n",
       "      <th>Survived</th>\n",
       "      <th>Pclass</th>\n",
       "      <th>Name</th>\n",
       "      <th>Sex</th>\n",
       "      <th>Age</th>\n",
       "      <th>SibSp</th>\n",
       "      <th>Parch</th>\n",
       "      <th>Ticket</th>\n",
       "      <th>Fare</th>\n",
       "      <th>Cabin</th>\n",
       "      <th>Embarked</th>\n",
       "    </tr>\n",
       "  </thead>\n",
       "  <tbody>\n",
       "    <tr>\n",
       "      <th>0</th>\n",
       "      <td>1</td>\n",
       "      <td>0</td>\n",
       "      <td>3</td>\n",
       "      <td>Braund, Mr. Owen Harris</td>\n",
       "      <td>male</td>\n",
       "      <td>22.0</td>\n",
       "      <td>1</td>\n",
       "      <td>0</td>\n",
       "      <td>A/5 21171</td>\n",
       "      <td>7.2500</td>\n",
       "      <td>NaN</td>\n",
       "      <td>S</td>\n",
       "    </tr>\n",
       "    <tr>\n",
       "      <th>1</th>\n",
       "      <td>2</td>\n",
       "      <td>1</td>\n",
       "      <td>1</td>\n",
       "      <td>Cumings, Mrs. John Bradley (Florence Briggs Th...</td>\n",
       "      <td>female</td>\n",
       "      <td>38.0</td>\n",
       "      <td>1</td>\n",
       "      <td>0</td>\n",
       "      <td>PC 17599</td>\n",
       "      <td>71.2833</td>\n",
       "      <td>C85</td>\n",
       "      <td>C</td>\n",
       "    </tr>\n",
       "    <tr>\n",
       "      <th>2</th>\n",
       "      <td>3</td>\n",
       "      <td>1</td>\n",
       "      <td>3</td>\n",
       "      <td>Heikkinen, Miss. Laina</td>\n",
       "      <td>female</td>\n",
       "      <td>26.0</td>\n",
       "      <td>0</td>\n",
       "      <td>0</td>\n",
       "      <td>STON/O2. 3101282</td>\n",
       "      <td>7.9250</td>\n",
       "      <td>NaN</td>\n",
       "      <td>S</td>\n",
       "    </tr>\n",
       "    <tr>\n",
       "      <th>3</th>\n",
       "      <td>4</td>\n",
       "      <td>1</td>\n",
       "      <td>1</td>\n",
       "      <td>Futrelle, Mrs. Jacques Heath (Lily May Peel)</td>\n",
       "      <td>female</td>\n",
       "      <td>35.0</td>\n",
       "      <td>1</td>\n",
       "      <td>0</td>\n",
       "      <td>113803</td>\n",
       "      <td>53.1000</td>\n",
       "      <td>C123</td>\n",
       "      <td>S</td>\n",
       "    </tr>\n",
       "    <tr>\n",
       "      <th>4</th>\n",
       "      <td>5</td>\n",
       "      <td>0</td>\n",
       "      <td>3</td>\n",
       "      <td>Allen, Mr. William Henry</td>\n",
       "      <td>male</td>\n",
       "      <td>35.0</td>\n",
       "      <td>0</td>\n",
       "      <td>0</td>\n",
       "      <td>373450</td>\n",
       "      <td>8.0500</td>\n",
       "      <td>NaN</td>\n",
       "      <td>S</td>\n",
       "    </tr>\n",
       "  </tbody>\n",
       "</table>\n",
       "</div>"
      ],
      "text/plain": [
       "   PassengerId  Survived  Pclass  \\\n",
       "0            1         0       3   \n",
       "1            2         1       1   \n",
       "2            3         1       3   \n",
       "3            4         1       1   \n",
       "4            5         0       3   \n",
       "\n",
       "                                                Name     Sex   Age  SibSp  \\\n",
       "0                            Braund, Mr. Owen Harris    male  22.0      1   \n",
       "1  Cumings, Mrs. John Bradley (Florence Briggs Th...  female  38.0      1   \n",
       "2                             Heikkinen, Miss. Laina  female  26.0      0   \n",
       "3       Futrelle, Mrs. Jacques Heath (Lily May Peel)  female  35.0      1   \n",
       "4                           Allen, Mr. William Henry    male  35.0      0   \n",
       "\n",
       "   Parch            Ticket     Fare Cabin Embarked  \n",
       "0      0         A/5 21171   7.2500   NaN        S  \n",
       "1      0          PC 17599  71.2833   C85        C  \n",
       "2      0  STON/O2. 3101282   7.9250   NaN        S  \n",
       "3      0            113803  53.1000  C123        S  \n",
       "4      0            373450   8.0500   NaN        S  "
      ]
     },
     "execution_count": 439,
     "metadata": {},
     "output_type": "execute_result"
    }
   ],
   "source": [
    "train = pd.read_csv('../datasets/titanic_train.csv')\n",
    "test = pd.read_csv('../datasets/titanic_test.csv')\n",
    "train.head()"
   ]
  },
  {
   "cell_type": "markdown",
   "metadata": {},
   "source": [
    "## Visualise Relationships"
   ]
  },
  {
   "cell_type": "markdown",
   "metadata": {},
   "source": [
    "## Clean"
   ]
  },
  {
   "cell_type": "code",
   "execution_count": 440,
   "metadata": {
    "collapsed": false
   },
   "outputs": [],
   "source": [
    "def clean_datasets(datasets):\n",
    "    for dataset in datasets:\n",
    "        dataset.Age.fillna(dataset.Age.mean(), inplace=True)\n",
    "        dataset.loc[dataset.Sex == 'female', 'Sex'] = 0\n",
    "        dataset.loc[dataset.Sex == 'male', 'Sex'] = 1\n",
    "        dataset.dropna(inplace=True)\n",
    "    return datasets\n",
    "train, test = clean_datasets([train, test])"
   ]
  },
  {
   "cell_type": "markdown",
   "metadata": {},
   "source": [
    "## Extract features and labels"
   ]
  },
  {
   "cell_type": "code",
   "execution_count": 441,
   "metadata": {
    "collapsed": true
   },
   "outputs": [],
   "source": [
    "features = train[['Age', 'Fare', 'Sex']]\n",
    "test_features = test[['Age', 'Fare', 'Sex']]"
   ]
  },
  {
   "cell_type": "code",
   "execution_count": 442,
   "metadata": {
    "collapsed": true
   },
   "outputs": [],
   "source": [
    "label = train[['Survived']]"
   ]
  },
  {
   "cell_type": "markdown",
   "metadata": {},
   "source": [
    "## Normalise"
   ]
  },
  {
   "cell_type": "code",
   "execution_count": 443,
   "metadata": {
    "collapsed": false
   },
   "outputs": [],
   "source": [
    "def normalise_datasets(datasets):\n",
    "    return [preprocessing.scale(dataset) for dataset in datasets]\n",
    "features, test_features = normalise_datasets([features, test_features])"
   ]
  },
  {
   "cell_type": "markdown",
   "metadata": {},
   "source": [
    "## Cross validation training data"
   ]
  },
  {
   "cell_type": "code",
   "execution_count": 444,
   "metadata": {
    "collapsed": true
   },
   "outputs": [],
   "source": [
    "xtrain, xtest, ytrain, ytest = model_selection.train_test_split(features, label)"
   ]
  },
  {
   "cell_type": "code",
   "execution_count": 445,
   "metadata": {
    "collapsed": false
   },
   "outputs": [
    {
     "data": {
      "text/plain": [
       "LinearRegression(copy_X=True, fit_intercept=True, n_jobs=1, normalize=False)"
      ]
     },
     "execution_count": 445,
     "metadata": {},
     "output_type": "execute_result"
    }
   ],
   "source": [
    "clf = Model()\n",
    "clf.fit(xtrain, ytrain)"
   ]
  },
  {
   "cell_type": "code",
   "execution_count": 446,
   "metadata": {
    "collapsed": false
   },
   "outputs": [
    {
     "data": {
      "text/plain": [
       "0.40924610474724749"
      ]
     },
     "execution_count": 446,
     "metadata": {},
     "output_type": "execute_result"
    }
   ],
   "source": [
    "clf.score(xtest, ytest)"
   ]
  },
  {
   "cell_type": "markdown",
   "metadata": {},
   "source": [
    "## Train Classifer"
   ]
  },
  {
   "cell_type": "code",
   "execution_count": 447,
   "metadata": {
    "collapsed": false
   },
   "outputs": [
    {
     "data": {
      "text/plain": [
       "LinearRegression(copy_X=True, fit_intercept=True, n_jobs=1, normalize=False)"
      ]
     },
     "execution_count": 447,
     "metadata": {},
     "output_type": "execute_result"
    }
   ],
   "source": [
    "clf = Model()\n",
    "clf.fit(features, label)"
   ]
  },
  {
   "cell_type": "code",
   "execution_count": 448,
   "metadata": {
    "collapsed": false
   },
   "outputs": [
    {
     "data": {
      "text/plain": [
       "array([[ 0.9831454 ],\n",
       "       [ 0.86970426],\n",
       "       [ 0.91618596],\n",
       "       [ 0.9825084 ],\n",
       "       [ 0.40185193],\n",
       "       [ 0.45830146],\n",
       "       [ 0.44916738],\n",
       "       [ 0.8765277 ],\n",
       "       [ 0.38363315],\n",
       "       [ 0.81498277],\n",
       "       [ 0.48589571],\n",
       "       [ 1.00642462],\n",
       "       [ 0.46812578],\n",
       "       [ 0.97023413],\n",
       "       [ 0.58672334],\n",
       "       [ 0.44639476],\n",
       "       [ 0.86229617],\n",
       "       [ 0.45744784],\n",
       "       [ 0.961846  ],\n",
       "       [ 0.48600292],\n",
       "       [ 0.82468249],\n",
       "       [ 0.33321927],\n",
       "       [ 0.95745952],\n",
       "       [ 0.74356684],\n",
       "       [ 0.88626745],\n",
       "       [ 0.49875761],\n",
       "       [ 0.91177394],\n",
       "       [ 0.83833844],\n",
       "       [ 1.06561858],\n",
       "       [ 0.43570991],\n",
       "       [ 0.9228845 ],\n",
       "       [ 0.34729695],\n",
       "       [ 0.37053066],\n",
       "       [ 0.45558177],\n",
       "       [ 0.98337134],\n",
       "       [ 0.99147492],\n",
       "       [ 0.39634696],\n",
       "       [ 0.37539093],\n",
       "       [ 0.34962018],\n",
       "       [ 0.91362909],\n",
       "       [ 0.79870676],\n",
       "       [ 0.43321203],\n",
       "       [ 0.9982744 ],\n",
       "       [ 1.00700608],\n",
       "       [ 0.58584687],\n",
       "       [ 0.42475559],\n",
       "       [ 0.92428289],\n",
       "       [ 0.40038882],\n",
       "       [ 0.89428579],\n",
       "       [ 0.96946315],\n",
       "       [ 0.42119478],\n",
       "       [ 0.30959962],\n",
       "       [ 0.87666696],\n",
       "       [ 0.41019032],\n",
       "       [ 0.40726536],\n",
       "       [ 0.49184014],\n",
       "       [ 0.39066977],\n",
       "       [ 0.98344727],\n",
       "       [ 0.49153828],\n",
       "       [ 0.44427133],\n",
       "       [ 0.36081837],\n",
       "       [ 0.44625212],\n",
       "       [ 0.78436176],\n",
       "       [ 0.48207114],\n",
       "       [ 0.35476045],\n",
       "       [ 0.85254048],\n",
       "       [ 0.35918832],\n",
       "       [ 0.46801915],\n",
       "       [ 0.4649775 ],\n",
       "       [ 1.02172543],\n",
       "       [ 0.41065723],\n",
       "       [ 0.45025575],\n",
       "       [ 0.93448624],\n",
       "       [ 0.87926555],\n",
       "       [ 0.36017547],\n",
       "       [ 0.81319909],\n",
       "       [ 0.9673397 ],\n",
       "       [ 0.96034963],\n",
       "       [ 0.35809087],\n",
       "       [ 0.84341747],\n",
       "       [ 0.34373719],\n",
       "       [ 0.4988889 ],\n",
       "       [ 0.84617024],\n",
       "       [ 1.00002291],\n",
       "       [ 0.86976792],\n",
       "       [ 0.97254882],\n",
       "       [ 0.39213963],\n",
       "       [ 0.49222015],\n",
       "       [ 0.40718268],\n",
       "       [ 0.92204889],\n",
       "       [ 0.91783027]])"
      ]
     },
     "execution_count": 448,
     "metadata": {},
     "output_type": "execute_result"
    }
   ],
   "source": [
    "clf.predict(test_features)"
   ]
  },
  {
   "cell_type": "code",
   "execution_count": null,
   "metadata": {
    "collapsed": true
   },
   "outputs": [],
   "source": []
  }
 ],
 "metadata": {
  "kernelspec": {
   "display_name": "Python 3",
   "language": "python",
   "name": "python3"
  },
  "language_info": {
   "codemirror_mode": {
    "name": "ipython",
    "version": 3
   },
   "file_extension": ".py",
   "mimetype": "text/x-python",
   "name": "python",
   "nbconvert_exporter": "python",
   "pygments_lexer": "ipython3",
   "version": "3.6.0"
  }
 },
 "nbformat": 4,
 "nbformat_minor": 2
}
